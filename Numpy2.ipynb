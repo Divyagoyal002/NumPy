{
 "cells": [
  {
   "cell_type": "code",
   "execution_count": 41,
   "id": "6b1786c8",
   "metadata": {},
   "outputs": [],
   "source": [
    "import numpy as np\n",
    "    "
   ]
  },
  {
   "cell_type": "code",
   "execution_count": 42,
   "id": "0b4db439",
   "metadata": {},
   "outputs": [],
   "source": [
    "arr=np.array([13,42,45,32,78,12,98,34,23,12,87,43,9])"
   ]
  },
  {
   "cell_type": "code",
   "execution_count": 43,
   "id": "99827068",
   "metadata": {},
   "outputs": [
    {
     "data": {
      "text/plain": [
       "array([13, 42, 45, 32, 78, 12, 98, 34, 23, 12, 87, 43,  9])"
      ]
     },
     "execution_count": 43,
     "metadata": {},
     "output_type": "execute_result"
    }
   ],
   "source": [
    "arr"
   ]
  },
  {
   "cell_type": "code",
   "execution_count": 44,
   "id": "64677a3c",
   "metadata": {},
   "outputs": [
    {
     "data": {
      "text/plain": [
       "array([13, 42, 45, 32, 78, 21, 98, 34, 23, 12, 87, 43,  9])"
      ]
     },
     "execution_count": 44,
     "metadata": {},
     "output_type": "execute_result"
    }
   ],
   "source": [
    "arr[5]=21\n",
    "arr"
   ]
  },
  {
   "cell_type": "code",
   "execution_count": 45,
   "id": "201d28e1",
   "metadata": {},
   "outputs": [
    {
     "name": "stdout",
     "output_type": "stream",
     "text": [
      "13\n"
     ]
    }
   ],
   "source": [
    "print(np.size(arr))"
   ]
  },
  {
   "cell_type": "code",
   "execution_count": 46,
   "id": "3ca2cadf",
   "metadata": {},
   "outputs": [
    {
     "name": "stdout",
     "output_type": "stream",
     "text": [
      "(13,)\n"
     ]
    }
   ],
   "source": [
    "print(np.shape(arr))"
   ]
  },
  {
   "cell_type": "code",
   "execution_count": 47,
   "id": "2f712319",
   "metadata": {},
   "outputs": [
    {
     "name": "stdout",
     "output_type": "stream",
     "text": [
      "int32\n"
     ]
    }
   ],
   "source": [
    "print(arr.dtype)"
   ]
  },
  {
   "cell_type": "code",
   "execution_count": 48,
   "id": "563df18c",
   "metadata": {},
   "outputs": [
    {
     "name": "stdout",
     "output_type": "stream",
     "text": [
      "41.30769230769231\n",
      "34.0\n",
      "537\n",
      "878737408\n",
      "788.9822485207102\n",
      "854.7307692307692\n",
      "28.088827823900203\n",
      "98\n",
      "9\n"
     ]
    }
   ],
   "source": [
    "print(np.mean(arr))\n",
    "print(np.median(arr))\n",
    "print(np.sum(arr))\n",
    "print(np.prod(arr))\n",
    "print(np.var(arr))\n",
    "print(np.cov(arr))\n",
    "print(np.std(arr))\n",
    "print(np.max(arr))\n",
    "print(np.min(arr))"
   ]
  },
  {
   "cell_type": "code",
   "execution_count": 49,
   "id": "cb37da89",
   "metadata": {},
   "outputs": [
    {
     "name": "stdout",
     "output_type": "stream",
     "text": [
      "[ 9 12 13 21 23 32 34 42 43 45 78 87 98]\n"
     ]
    }
   ],
   "source": [
    "print(np.sort(arr))"
   ]
  },
  {
   "cell_type": "code",
   "execution_count": 50,
   "id": "02dbdbea",
   "metadata": {},
   "outputs": [
    {
     "name": "stdout",
     "output_type": "stream",
     "text": [
      "[3.60555128 6.4807407  6.70820393 5.65685425 8.83176087 4.58257569\n",
      " 9.89949494 5.83095189 4.79583152 3.46410162 9.32737905 6.55743852\n",
      " 3.        ]\n",
      "[  2197  74088  91125  32768 474552   9261 941192  39304  12167   1728\n",
      " 658503  79507    729]\n",
      "[21 23 45 66 99 76]\n"
     ]
    }
   ],
   "source": [
    "print(np.sqrt(arr))\n",
    "print(np.power(arr,3))\n",
    "arr2=np.array([21,-23,-45,66,99,76])\n",
    "print(np.abs(arr2))"
   ]
  },
  {
   "cell_type": "code",
   "execution_count": 51,
   "id": "7d77ef02",
   "metadata": {},
   "outputs": [
    {
     "data": {
      "text/plain": [
       "array([20, 22, 24, 26, 28, 30, 32, 34, 36, 38])"
      ]
     },
     "execution_count": 51,
     "metadata": {},
     "output_type": "execute_result"
    }
   ],
   "source": [
    "arr3=np.arange(20,40,2)\n",
    "arr3"
   ]
  },
  {
   "cell_type": "code",
   "execution_count": 52,
   "id": "b3d31266",
   "metadata": {},
   "outputs": [
    {
     "name": "stdout",
     "output_type": "stream",
     "text": [
      "[28 30 32 34 36 38 40 42 44 46]\n"
     ]
    }
   ],
   "source": [
    "print(arr3+8)"
   ]
  },
  {
   "cell_type": "code",
   "execution_count": 53,
   "id": "4e95ae8d",
   "metadata": {},
   "outputs": [
    {
     "name": "stdout",
     "output_type": "stream",
     "text": [
      "[15 17 19 21 23 25 27 29 31 33]\n"
     ]
    }
   ],
   "source": [
    "print(arr3-5)"
   ]
  },
  {
   "cell_type": "code",
   "execution_count": 54,
   "id": "0ee01af1",
   "metadata": {},
   "outputs": [
    {
     "name": "stdout",
     "output_type": "stream",
     "text": [
      "[ 60  66  72  78  84  90  96 102 108 114]\n"
     ]
    }
   ],
   "source": [
    "print(arr3*3)"
   ]
  },
  {
   "cell_type": "code",
   "execution_count": 55,
   "id": "b83cc319",
   "metadata": {},
   "outputs": [
    {
     "name": "stdout",
     "output_type": "stream",
     "text": [
      "[ 6.66666667  7.33333333  8.          8.66666667  9.33333333 10.\n",
      " 10.66666667 11.33333333 12.         12.66666667]\n"
     ]
    }
   ],
   "source": [
    "print(arr3/3) #division"
   ]
  },
  {
   "cell_type": "code",
   "execution_count": 56,
   "id": "3c679526",
   "metadata": {},
   "outputs": [
    {
     "name": "stdout",
     "output_type": "stream",
     "text": [
      "[ 6  7  8  8  9 10 10 11 12 12]\n"
     ]
    }
   ],
   "source": [
    "print(arr3//3) #quotient"
   ]
  },
  {
   "cell_type": "code",
   "execution_count": 57,
   "id": "a46b8242",
   "metadata": {},
   "outputs": [
    {
     "name": "stdout",
     "output_type": "stream",
     "text": [
      "[2 1 0 2 1 0 2 1 0 2]\n"
     ]
    }
   ],
   "source": [
    "print(arr3%3) #reamainder"
   ]
  },
  {
   "cell_type": "markdown",
   "id": "de3e602a",
   "metadata": {},
   "source": [
    "**Relational operator**"
   ]
  },
  {
   "cell_type": "code",
   "execution_count": 68,
   "id": "978124e0",
   "metadata": {},
   "outputs": [],
   "source": [
    "a1=np.array([215,323,520,636,717,281,162,411])\n",
    "a2=np.array([311,453,520,362,230,281,672,891])\n"
   ]
  },
  {
   "cell_type": "code",
   "execution_count": 69,
   "id": "95a401a7",
   "metadata": {},
   "outputs": [
    {
     "name": "stdout",
     "output_type": "stream",
     "text": [
      "Comparing corresponding elements of two arrays\n",
      " [False False  True  True  True  True False False]\n"
     ]
    }
   ],
   "source": [
    "print(\"Comparing corresponding elements of two arrays\\n\",a1>=a2)"
   ]
  },
  {
   "cell_type": "code",
   "execution_count": 70,
   "id": "49e27d14",
   "metadata": {},
   "outputs": [
    {
     "name": "stdout",
     "output_type": "stream",
     "text": [
      "Comparing corresponding elements of two arrays\n",
      " [ True  True  True False False  True  True  True]\n"
     ]
    }
   ],
   "source": [
    "print(\"Comparing corresponding elements of two arrays\\n\",a1<=a2)"
   ]
  },
  {
   "cell_type": "code",
   "execution_count": 71,
   "id": "329ef989",
   "metadata": {},
   "outputs": [
    {
     "name": "stdout",
     "output_type": "stream",
     "text": [
      "Comparing corresponding elements of two arrays\n",
      " [False False  True False False  True False False]\n"
     ]
    }
   ],
   "source": [
    "print(\"Comparing corresponding elements of two arrays\\n\",a1==a2)"
   ]
  },
  {
   "cell_type": "code",
   "execution_count": 72,
   "id": "21ed6b8a",
   "metadata": {},
   "outputs": [
    {
     "name": "stdout",
     "output_type": "stream",
     "text": [
      "Comparing corresponding elements of two arrays\n",
      " [ True  True False  True  True False  True  True]\n"
     ]
    }
   ],
   "source": [
    "print(\"Comparing corresponding elements of two arrays\\n\",a1!=a2)"
   ]
  },
  {
   "cell_type": "code",
   "execution_count": null,
   "id": "144d29e4",
   "metadata": {},
   "outputs": [],
   "source": []
  }
 ],
 "metadata": {
  "kernelspec": {
   "display_name": "Python 3 (ipykernel)",
   "language": "python",
   "name": "python3"
  },
  "language_info": {
   "codemirror_mode": {
    "name": "ipython",
    "version": 3
   },
   "file_extension": ".py",
   "mimetype": "text/x-python",
   "name": "python",
   "nbconvert_exporter": "python",
   "pygments_lexer": "ipython3",
   "version": "3.9.7"
  }
 },
 "nbformat": 4,
 "nbformat_minor": 5
}
