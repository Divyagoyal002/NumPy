{
 "cells": [
  {
   "cell_type": "code",
   "execution_count": 14,
   "id": "aeee4ead",
   "metadata": {},
   "outputs": [],
   "source": [
    "import numpy as np"
   ]
  },
  {
   "cell_type": "code",
   "execution_count": 18,
   "id": "450fa8f3",
   "metadata": {},
   "outputs": [
    {
     "data": {
      "text/plain": [
       "array([[ 11,  22,  33,  44],\n",
       "       [ 55,  66,  77,  88],\n",
       "       [ 99, 110, 121, 144],\n",
       "       [169, 196, 225, 256]])"
      ]
     },
     "execution_count": 18,
     "metadata": {},
     "output_type": "execute_result"
    }
   ],
   "source": [
    "a2=np.array([[11,22,33,44],[55,66,77,88],[99,110,121,144],[169,196,225,256]])\n",
    "a2"
   ]
  },
  {
   "cell_type": "code",
   "execution_count": 19,
   "id": "b04b9bf6",
   "metadata": {},
   "outputs": [
    {
     "data": {
      "text/plain": [
       "array([[10, 10, 10, 10],\n",
       "       [11, 11, 11, 11],\n",
       "       [12, 12, 12, 12],\n",
       "       [13, 13, 13, 13]])"
      ]
     },
     "execution_count": 19,
     "metadata": {},
     "output_type": "execute_result"
    }
   ],
   "source": [
    "b2=np.array([[10,10,10,10],[11,11,11,11],[12,12,12,12],[13,13,13,13]])\n",
    "b2"
   ]
  },
  {
   "cell_type": "markdown",
   "id": "96e0408e",
   "metadata": {},
   "source": [
    "**QUES 1 Find transpose of a2**"
   ]
  },
  {
   "cell_type": "code",
   "execution_count": 22,
   "id": "13ecfc82",
   "metadata": {},
   "outputs": [
    {
     "data": {
      "text/plain": [
       "array([[ 11,  55,  99, 169],\n",
       "       [ 22,  66, 110, 196],\n",
       "       [ 33,  77, 121, 225],\n",
       "       [ 44,  88, 144, 256]])"
      ]
     },
     "execution_count": 22,
     "metadata": {},
     "output_type": "execute_result"
    }
   ],
   "source": [
    "a2=np.array([[11,22,33,44],[55,66,77,88],[99,110,121,144],[169,196,225,256]])\n",
    "a2=np.transpose(a2)\n",
    "a2"
   ]
  },
  {
   "cell_type": "markdown",
   "id": "1015dcec",
   "metadata": {},
   "source": [
    "**Ques 2 Perform ,Addition,Subtraction and Multiplication of two arrays**"
   ]
  },
  {
   "cell_type": "code",
   "execution_count": 23,
   "id": "2101a9d1",
   "metadata": {},
   "outputs": [
    {
     "name": "stdout",
     "output_type": "stream",
     "text": [
      "[[ 21  65 109 179]\n",
      " [ 33  77 121 207]\n",
      " [ 45  89 133 237]\n",
      " [ 57 101 157 269]]\n"
     ]
    }
   ],
   "source": [
    "def add(a2,b2):\n",
    "    if(a2.shape==b2.shape):\n",
    "        return a2+b2\n",
    "    else:\n",
    "        return \"dimension of a2 and b2 doesnt match\"\n",
    "print(add(a2,b2))"
   ]
  },
  {
   "cell_type": "code",
   "execution_count": 24,
   "id": "3accc5dd",
   "metadata": {},
   "outputs": [
    {
     "name": "stdout",
     "output_type": "stream",
     "text": [
      "[[  1  45  89 159]\n",
      " [ 11  55  99 185]\n",
      " [ 21  65 109 213]\n",
      " [ 31  75 131 243]]\n"
     ]
    }
   ],
   "source": [
    "def sub(a2,b2):\n",
    "    if(a2.shape==b2.shape):\n",
    "        return a2-b2\n",
    "    else:\n",
    "        return \"dimension of a2 and b2 doesnt match\"\n",
    "print(sub(a2,b2))"
   ]
  },
  {
   "cell_type": "code",
   "execution_count": 25,
   "id": "e9457fc7",
   "metadata": {},
   "outputs": [
    {
     "name": "stdout",
     "output_type": "stream",
     "text": [
      "Matrix A:\n",
      " [[ 11  22  33  44]\n",
      " [ 55  66  77  88]\n",
      " [ 99 110 121 144]]\n",
      "Matrix B:\n",
      " [[10 10 10]\n",
      " [11 11 11]\n",
      " [12 12 12]\n",
      " [13 13 13]]\n",
      "shape of A( 3 , 4 )\n",
      "shape of B( 4 , 3 )\n",
      "Multiplication of matrix A*B :\n",
      " [[1320 1320 1320]\n",
      " [3344 3344 3344]\n",
      " [5524 5524 5524]]\n",
      "With dimension( 3 , 3 )\n"
     ]
    }
   ],
   "source": [
    "a2=np.array([[11,22,33,44],[55,66,77,88],[99,110,121,144]])\n",
    "b2=np.array([[10,10,10],[11,11,11],[12,12,12],[13,13,13]])\n",
    "print(\"Matrix A:\\n\",a2)\n",
    "print(\"Matrix B:\\n\",b2)\n",
    "r,c=np.shape(a2)\n",
    "print(\"shape of A(\",r,\",\",c,\")\")\n",
    "r1,c1=np.shape(b2)\n",
    "print(\"shape of B(\",r1,\",\",c1,\")\")\n",
    "if c==r1:\n",
    "    print(\"Multiplication of matrix A*B :\\n\",a2.dot(b2))\n",
    "    print(\"With dimension(\",r,\",\",c1,\")\")\n",
    "else:\n",
    "    print(\"Multiplication is not possible\")\n"
   ]
  },
  {
   "cell_type": "code",
   "execution_count": 26,
   "id": "549c87e8",
   "metadata": {},
   "outputs": [
    {
     "name": "stdout",
     "output_type": "stream",
     "text": [
      "Matrix A:\n",
      " [[ 11  22  33  44]\n",
      " [ 55  66  77  88]\n",
      " [ 99 110 121 144]]\n",
      "Matrix B:\n",
      " [[10 10 10]\n",
      " [11 11 11]\n",
      " [12 12 12]]\n",
      "shape of A( 3 , 4 )\n",
      "shape of B( 3 , 3 )\n",
      "Multiplication is not possible\n",
      "As (column of A)!=(row of B)\n"
     ]
    }
   ],
   "source": [
    "a2=np.array([[11,22,33,44],[55,66,77,88],[99,110,121,144]])\n",
    "b2=np.array([[10,10,10],[11,11,11],[12,12,12]])\n",
    "print(\"Matrix A:\\n\",a2)\n",
    "print(\"Matrix B:\\n\",b2)\n",
    "r,c=np.shape(a2)\n",
    "print(\"shape of A(\",r,\",\",c,\")\")\n",
    "r1,c1=np.shape(b2)\n",
    "print(\"shape of B(\",r1,\",\",c1,\")\")\n",
    "if c==r1:\n",
    "    print(\"Multiplication of matrix A*B :\\n\",a2.dot(b2))\n",
    "    print(\"With dimension(\",r,\",\",c1,\")\")\n",
    "else:\n",
    "    print(\"Multiplication is not possible\")\n",
    "    print(\"As (column of A)!=(row of B)\")"
   ]
  },
  {
   "cell_type": "markdown",
   "id": "578563f3",
   "metadata": {},
   "source": [
    "**Ques 3 Find the trace (sum of diagonal elements) of a square matrix**"
   ]
  },
  {
   "cell_type": "code",
   "execution_count": 28,
   "id": "3efc04ee",
   "metadata": {},
   "outputs": [
    {
     "name": "stdout",
     "output_type": "stream",
     "text": [
      "198\n"
     ]
    }
   ],
   "source": [
    "a2=np.array([[11,22,33,44],[55,66,77,88],[99,110,121,144]])\n",
    "T=np.trace(a2)\n",
    "print(T)"
   ]
  },
  {
   "cell_type": "code",
   "execution_count": 33,
   "id": "ed960760",
   "metadata": {},
   "outputs": [
    {
     "name": "stdout",
     "output_type": "stream",
     "text": [
      "Trace of\n",
      " [[ 11  22  33  44]\n",
      " [ 55  66  77  88]\n",
      " [ 99 110 121 144]\n",
      " [169 196 225 256]] \n",
      "is 454\n"
     ]
    }
   ],
   "source": [
    "a2=np.array([[11,22,33,44],[55,66,77,88],[99,110,121,144],[169,196,225,256]])\n",
    "r,c=np.shape(a2)\n",
    "T=0\n",
    "for i in range(0,r):\n",
    "    for j in range(0,c):\n",
    "        if i==j:\n",
    "            T=T+a2[i][j]\n",
    "print(\"Trace of\\n\",a2,\"\\nis\",T)"
   ]
  },
  {
   "cell_type": "markdown",
   "id": "992f41e1",
   "metadata": {},
   "source": [
    "**Ques 4 Convert the given matrix into an identity matrix**"
   ]
  },
  {
   "cell_type": "code",
   "execution_count": 36,
   "id": "0a745500",
   "metadata": {},
   "outputs": [
    {
     "name": "stdout",
     "output_type": "stream",
     "text": [
      "Matrix a2 as identity matrix\n",
      " [[ 11   0   0   0]\n",
      " [  0  66   0   0]\n",
      " [  0   0 121   0]\n",
      " [  0   0   0 256]]\n"
     ]
    }
   ],
   "source": [
    "a2=np.array([[11,22,33,44],[55,66,77,88],[99,110,121,144],[169,196,225,256]])\n",
    "r,c=np.shape(a2)\n",
    "for i in range(0,r):\n",
    "    for j in range(0,c):\n",
    "        if i==j:\n",
    "            continue\n",
    "        else:\n",
    "            a2[i][j]=0\n",
    "print(\"Matrix a2 as identity matrix\\n\",a2)"
   ]
  },
  {
   "cell_type": "code",
   "execution_count": 37,
   "id": "b828aaa7",
   "metadata": {},
   "outputs": [
    {
     "name": "stdout",
     "output_type": "stream",
     "text": [
      "Matrix a2 as identity matrix\n",
      " [[1 0 0 0]\n",
      " [0 1 0 0]\n",
      " [0 0 1 0]\n",
      " [0 0 0 1]]\n"
     ]
    }
   ],
   "source": [
    "a2=np.array([[11,22,33,44],[55,66,77,88],[99,110,121,144],[169,196,225,256]])\n",
    "r,c=np.shape(a2)\n",
    "for i in range(0,r):\n",
    "    for j in range(0,c):\n",
    "        if i==j:\n",
    "            a2[i][j]=1\n",
    "        else:\n",
    "            a2[i][j]=0\n",
    "print(\"Matrix a2 as identity matrix\\n\",a2)"
   ]
  },
  {
   "cell_type": "markdown",
   "id": "c702da4d",
   "metadata": {},
   "source": [
    "**Ques 5 Convert the given matrix into an upper triangular matrix**"
   ]
  },
  {
   "cell_type": "code",
   "execution_count": 38,
   "id": "32a9741b",
   "metadata": {},
   "outputs": [
    {
     "name": "stdout",
     "output_type": "stream",
     "text": [
      "Upper Triangular Matrix\n",
      " [[  0  22  33  44]\n",
      " [  0   0  77  88]\n",
      " [  0   0   0 144]\n",
      " [  0   0   0   0]]\n"
     ]
    }
   ],
   "source": [
    "a2=np.array([[11,22,33,44],[55,66,77,88],[99,110,121,144],[169,196,225,256]])\n",
    "r,c=np.shape(a2)\n",
    "for i in range(0,r):\n",
    "    for j in range(0,c):\n",
    "        if j>i:\n",
    "            continue\n",
    "        else:\n",
    "            a2[i][j]=0\n",
    "print(\"Upper Triangular Matrix\\n\",a2)"
   ]
  },
  {
   "cell_type": "code",
   "execution_count": 39,
   "id": "b6b15b7b",
   "metadata": {},
   "outputs": [
    {
     "name": "stdout",
     "output_type": "stream",
     "text": [
      "Lower Triangular Matrix\n",
      " [[  0   0   0   0]\n",
      " [ 55   0   0   0]\n",
      " [ 99 110   0   0]\n",
      " [169 196 225   0]]\n"
     ]
    }
   ],
   "source": [
    "a2=np.array([[11,22,33,44],[55,66,77,88],[99,110,121,144],[169,196,225,256]])\n",
    "r,c=np.shape(a2)\n",
    "for i in range(0,r):\n",
    "    for j in range(0,c):\n",
    "        if j<i:\n",
    "            continue\n",
    "        else:\n",
    "            a2[i][j]=0\n",
    "print(\"Lower Triangular Matrix\\n\",a2)"
   ]
  },
  {
   "cell_type": "code",
   "execution_count": null,
   "id": "d1a2855a",
   "metadata": {},
   "outputs": [],
   "source": []
  }
 ],
 "metadata": {
  "kernelspec": {
   "display_name": "Python 3 (ipykernel)",
   "language": "python",
   "name": "python3"
  },
  "language_info": {
   "codemirror_mode": {
    "name": "ipython",
    "version": 3
   },
   "file_extension": ".py",
   "mimetype": "text/x-python",
   "name": "python",
   "nbconvert_exporter": "python",
   "pygments_lexer": "ipython3",
   "version": "3.9.7"
  }
 },
 "nbformat": 4,
 "nbformat_minor": 5
}
