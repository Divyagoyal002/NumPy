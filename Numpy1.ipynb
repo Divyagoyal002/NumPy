{
 "cells": [
  {
   "cell_type": "markdown",
   "id": "13ff27a6",
   "metadata": {},
   "source": [
    "# Numpy"
   ]
  },
  {
   "cell_type": "code",
   "execution_count": 8,
   "id": "f94736c6",
   "metadata": {},
   "outputs": [
    {
     "name": "stdout",
     "output_type": "stream",
     "text": [
      "Requirement already satisfied: numpy in c:\\users\\ind\\anaconda3\\lib\\site-packages (1.21.5)\n",
      "Note: you may need to restart the kernel to use updated packages.\n"
     ]
    }
   ],
   "source": [
    "%pip install numpy\n"
   ]
  },
  {
   "cell_type": "code",
   "execution_count": 2,
   "id": "f8070159",
   "metadata": {},
   "outputs": [
    {
     "name": "stdout",
     "output_type": "stream",
     "text": [
      "The array is [1 2 3 4]\n",
      "1\n",
      "2\n"
     ]
    }
   ],
   "source": [
    "import numpy as np\n",
    "arr=np.array([1,2,3,4])\n",
    "print(\"The array is\", (arr));\n",
    "print(arr[0])\n",
    "print(arr[1])"
   ]
  },
  {
   "cell_type": "code",
   "execution_count": 10,
   "id": "899fd484",
   "metadata": {},
   "outputs": [
    {
     "name": "stdout",
     "output_type": "stream",
     "text": [
      "using view function to create a new array  ['java' 'datastruct' 'javas' 'maths' 'automata']\n",
      "using copy function to create a new array  ['a' 'b' 'c' 'd' 'e' 'f']\n"
     ]
    }
   ],
   "source": [
    "import numpy as np\n",
    "myarray1= np.array ([11,22,33,44.4,55,66], int)\n",
    "myarray2= np.array(['a','b','c','d','e','f'])\n",
    "dtype=str\n",
    "myarray3= np.array(['java','datastruct','javas','maths','automata'])\n",
    "# print(\"The array is\", (myarray1));\n",
    "# print(\"The array is\", (myarray2));\n",
    "# print(\"The array is\", (myarray3));\n",
    "myarray4= np.array ([11.2,22.2,33.4,44.4,55.5,66.7], float)\n",
    "myarray5=myarray3.view();\n",
    "print(\"using view function to create a new array \",myarray5)\n",
    "myarray6=myarray2.copy();\n",
    "print(\"using copy function to create a new array \",myarray6)\n"
   ]
  },
  {
   "cell_type": "code",
   "execution_count": 11,
   "id": "79826199",
   "metadata": {},
   "outputs": [
    {
     "name": "stdout",
     "output_type": "stream",
     "text": [
      "array is [ 0  1  2  3  4  5  6  7  8  9 10 11 12 13]\n"
     ]
    }
   ],
   "source": [
    "import numpy\n",
    "myarray7=numpy.arange(14)\n",
    "print(\"array is\",myarray7)"
   ]
  },
  {
   "cell_type": "code",
   "execution_count": 12,
   "id": "6982f597",
   "metadata": {},
   "outputs": [
    {
     "name": "stdout",
     "output_type": "stream",
     "text": [
      "array is [14. 15. 16. 17. 18.]\n"
     ]
    },
    {
     "name": "stderr",
     "output_type": "stream",
     "text": [
      "C:\\Users\\ind\\AppData\\Local\\Temp\\ipykernel_16244\\2649470491.py:2: DeprecationWarning: `np.float` is a deprecated alias for the builtin `float`. To silence this warning, use `float` by itself. Doing this will not modify any behavior and is safe. If you specifically wanted the numpy scalar type, use `np.float64` here.\n",
      "Deprecated in NumPy 1.20; for more details and guidance: https://numpy.org/devdocs/release/1.20.0-notes.html#deprecations\n",
      "  myarray8=numpy.arange(14,19,dtype = numpy.float)\n"
     ]
    }
   ],
   "source": [
    "import numpy\n",
    "myarray8=numpy.arange(14,19,dtype = numpy.float)\n",
    "print(\"array is\",myarray8)\n"
   ]
  },
  {
   "cell_type": "code",
   "execution_count": 13,
   "id": "30a0d7fa",
   "metadata": {},
   "outputs": [
    {
     "name": "stdout",
     "output_type": "stream",
     "text": [
      "array is [12. 15. 18. 21. 24.]\n"
     ]
    }
   ],
   "source": [
    "import numpy\n",
    "myarray9=numpy.linspace(12,24,5)\n",
    "print(\"array is\",myarray9)"
   ]
  },
  {
   "cell_type": "code",
   "execution_count": 14,
   "id": "0f1722a9",
   "metadata": {},
   "outputs": [
    {
     "name": "stdout",
     "output_type": "stream",
     "text": [
      "array is [1.   1.75 2.5  3.25 4.  ]\n"
     ]
    }
   ],
   "source": [
    "import numpy\n",
    "myarray10=numpy.linspace(1.,4.,5)\n",
    "print(\"array is\",myarray10)"
   ]
  },
  {
   "cell_type": "code",
   "execution_count": 15,
   "id": "d20b6df6",
   "metadata": {},
   "outputs": [
    {
     "name": "stdout",
     "output_type": "stream",
     "text": [
      "array is [0. 0. 0. 0.]\n"
     ]
    }
   ],
   "source": [
    "import numpy\n",
    "myarray11=numpy.zeros((4))\n",
    "print(\"array is\",myarray11)"
   ]
  },
  {
   "cell_type": "code",
   "execution_count": 16,
   "id": "8460a00a",
   "metadata": {},
   "outputs": [
    {
     "name": "stdout",
     "output_type": "stream",
     "text": [
      "array is [1. 1. 1. 1.]\n",
      "modified array is [ 1.  1. 45.  1.]\n",
      "4\n",
      "float64\n",
      "12.0\n",
      "1.0\n",
      "45.0\n",
      "1.0\n",
      "48.0\n",
      "45.0\n",
      "484.0\n",
      "19.05255888325765\n",
      "363.0\n"
     ]
    }
   ],
   "source": [
    "import numpy\n",
    "myarray12=numpy.ones((4))\n",
    "print(\"array is\",myarray12)\n",
    "myarray12[2]=45;\n",
    "print(\"modified array is\",myarray12)\n",
    "print(myarray12.size)\n",
    "print(myarray12.dtype)\n",
    "print(numpy.mean(myarray12))\n",
    "print(numpy.median(myarray12))\n",
    "print(numpy.max(myarray12))\n",
    "print(numpy.min(myarray12))\n",
    "print(numpy.sum(myarray12))\n",
    "#  product\n",
    "print(numpy.prod(myarray12))\n",
    "# covarience\n",
    "print(numpy.cov(myarray12))\n",
    "# standard deviation\n",
    "print(numpy.std(myarray12))\n",
    "# variance\n",
    "print(numpy.var(myarray12))\n"
   ]
  },
  {
   "cell_type": "code",
   "execution_count": 21,
   "id": "b6eada54",
   "metadata": {},
   "outputs": [
    {
     "name": "stdout",
     "output_type": "stream",
     "text": [
      "[ 1.  1. 45.  1.]\n",
      "[1.         1.         6.70820393 1.        ]\n",
      "[0.84147098 0.84147098 0.85090352 0.84147098]\n",
      "[0.54030231 0.54030231 0.52532199 0.54030231]\n",
      "[0.         0.         3.80666249 0.        ]\n",
      "[0.         0.         1.65321251 0.        ]\n",
      "[2.71828183e+00 2.71828183e+00 3.49342711e+19 2.71828183e+00]\n",
      "[0.         0.         3.80666249 0.        ]\n",
      "[0.         0.         1.65321251 0.        ]\n",
      "[2.71828183e+00 2.71828183e+00 3.49342711e+19 2.71828183e+00]\n"
     ]
    }
   ],
   "source": [
    "# absolute value\n",
    "print(numpy.abs(myarray12))\n",
    "# square root\n",
    "print(numpy.sqrt(myarray12))\n",
    "print(numpy.sin(myarray12))\n",
    "print(numpy.cos(myarray12))\n",
    "print(numpy.log(myarray12))\n",
    "print(numpy.log10(myarray12))\n",
    "# exponential\n",
    "print(numpy.exp(myarray12))\n",
    "print(numpy.log(myarray12))\n",
    "print(numpy.log10(myarray12))\n",
    "print(numpy.exp(myarray12))"
   ]
  },
  {
   "cell_type": "code",
   "execution_count": 19,
   "id": "0bd7f429",
   "metadata": {},
   "outputs": [
    {
     "name": "stdout",
     "output_type": "stream",
     "text": [
      "[0.         0.         3.80666249 0.        ]\n"
     ]
    }
   ],
   "source": [
    "#log() functionn return the log with exponential base\n",
    "import numpy\n",
    "print(numpy.log(myarray12))"
   ]
  },
  {
   "cell_type": "code",
   "execution_count": 26,
   "id": "9a64877f",
   "metadata": {},
   "outputs": [
    {
     "name": "stdout",
     "output_type": "stream",
     "text": [
      "Original array is  [25 26 27 28 29 30 31 32 33]\n",
      "Adding an element to array elements : [37 38 39 40 41 42 43 44 45]\n",
      "Subtracting an element to array elements :  [16 17 18 19 20 21 22 23 24]\n",
      "Multiplying an element to array elements :  [225 234 243 252 261 270 279 288 297]\n",
      "Dividing an element to array elements :  [2.77777778 2.88888889 3.         3.11111111 3.22222222 3.33333333\n",
      " 3.44444444 3.55555556 3.66666667]\n",
      "Using modulus operator for the array elements :  [ 2  3  4  5  6  7  8  9 10]\n",
      "Using integer division for the array elements :  [12 13 13 14 14 15 15 16 16]\n"
     ]
    }
   ],
   "source": [
    "#mathematical operations on one dimensional array.\n",
    "myarray12=numpy.arange(25,34)\n",
    "print(\"Original array is \",myarray12)\n",
    "print(\"Adding an element to array elements :\",myarray12+12)\n",
    "# Above operation is known as BROADCASTING\n",
    "print(\"Subtracting an element to array elements : \",myarray12-9)\n",
    "print(\"Multiplying an element to array elements : \",myarray12*9)\n",
    "print(\"Dividing an element to array elements : \",myarray12/9)\n",
    "print(\"Using modulus operator for the array elements : \",myarray12%23)\n",
    "print(\"Using integer division for the array elements : \",myarray12//2)\n",
    "\n"
   ]
  },
  {
   "cell_type": "code",
   "execution_count": 30,
   "id": "f3b297dc",
   "metadata": {},
   "outputs": [
    {
     "name": "stdout",
     "output_type": "stream",
     "text": [
      "Addition and subtraction on multiple arrays :  [36 36 36]\n",
      "Multiplication and division on multiple arrays :  [ 62.85714286 137.5        220.        ]\n",
      "5\n",
      "using modulus operator on two arrays :  [5 2 6]\n"
     ]
    }
   ],
   "source": [
    "#program to use mathematical operators on multiple arrays.\n",
    "import numpy as np\n",
    "#creating three integer array\n",
    "myarray15=np.array([11,22,33],int)\n",
    "myarray16=np.array([40,50,60],int)\n",
    "myarray17=np.array([7,8,9],int)\n",
    "\n",
    "#performing addition and subtraction on all elements of an array\n",
    "myarray18 = myarray17 + myarray16 - myarray15\n",
    "print(\"Addition and subtraction on multiple arrays : \",myarray18)\n",
    "\n",
    "#performing multiplication and division on all elements of an array. \n",
    "myarray19=(myarray15*myarray16)/myarray17\n",
    "print(\"Multiplication and division on multiple arrays : \",myarray19)\n",
    "print(len(str(myarray19[1])))\n",
    "\n",
    "#using modulus operator on all elements of an array.\n",
    "myarray20=myarray16%myarray17\n",
    "print(\"using modulus operator on two arrays : \",myarray20)\n",
    "\n",
    "\n",
    "\n"
   ]
  },
  {
   "cell_type": "code",
   "execution_count": 29,
   "id": "b0e7d2cc",
   "metadata": {},
   "outputs": [
    {
     "name": "stdout",
     "output_type": "stream",
     "text": [
      "multidimensional array using array function is: \n",
      " [[100 200 300 400]\n",
      " [600 700 800 900]]\n",
      "multidimensional array using matrix function is: \n",
      " [[11 22]\n",
      " [33 44]\n",
      " [55 66]]\n",
      "multidimensional array using reshape function is: \n",
      " [[10 20]\n",
      " [30 40]\n",
      " [50 60]]\n",
      "multidimesional array using zeros function is: \n",
      " [[0. 0.]\n",
      " [0. 0.]\n",
      " [0. 0.]\n",
      " [0. 0.]]\n",
      "multidimensional array using ones function is: \n",
      " [[1. 1. 1.]\n",
      " [1. 1. 1.]]\n"
     ]
    }
   ],
   "source": [
    "#program to show creation of multidimensional array.\n",
    "import numpy as np\n",
    "#creating a two-dimensional array using array() function.\n",
    "mymultarray1=np.array([[100,200,300,400],[600,700,800,900]])\n",
    "print(\"multidimensional array using array function is: \\n\",mymultarray1)\n",
    "\n",
    "#creating a two-dimensional array using matrix() function.\n",
    "mymultarray2=np.matrix(\"11 22; 33 44; 55 66\")\n",
    "print(\"multidimensional array using matrix function is: \\n\",mymultarray2)\n",
    "\n",
    "#creating a two-dimensional array using reshape() function.\n",
    "newarray=np.array([10,20,30,40,50,60])\n",
    "mymultarray3=np.reshape(newarray,(3,2))\n",
    "print(\"multidimensional array using reshape function is: \\n\",mymultarray3)\n",
    "\n",
    "#creating array using zeros() function.\n",
    "mymultarray4=np.zeros((4,2))\n",
    "print(\"multidimesional array using zeros function is: \\n\",mymultarray4)\n",
    "\n",
    "#creating array using ones() function.\n",
    "mymultarray5=np.ones((2,3))\n",
    "print(\"multidimensional array using ones function is: \\n\",mymultarray5)\n",
    "\n",
    "\n",
    "\n",
    "\n",
    "\n"
   ]
  },
  {
   "cell_type": "code",
   "execution_count": 2,
   "id": "d8b890bd",
   "metadata": {},
   "outputs": [
    {
     "name": "stdout",
     "output_type": "stream",
     "text": [
      "the array is: \n",
      " [[100 150]\n",
      " [200 250]\n",
      " [300 350]]\n",
      "element of first row and second column is:  150\n",
      "element of second row and first column is:  200\n",
      "element of second row and second column is:  250\n",
      "element of third row and first column is:  300\n",
      "element of third row and second column is:  350\n"
     ]
    }
   ],
   "source": [
    "#program to show indexing in multidimensional arrays.\n",
    "import numpy as np\n",
    "mymultarray6=np.reshape(range(100,400,50),(3,2))\n",
    "print(\"the array is: \\n\",mymultarray6)\n",
    "\n",
    "#performing indexing\n",
    "print(\"element of first row and second column is: \",mymultarray6[0][1])\n",
    "print(\"element of second row and first column is: \",mymultarray6[1][0])\n",
    "print(\"element of second row and second column is: \",mymultarray6[1][1])\n",
    "print(\"element of third row and first column is: \",mymultarray6[2][0])\n",
    "print(\"element of third row and second column is: \",mymultarray6[2][1])\n",
    "\n"
   ]
  },
  {
   "cell_type": "code",
   "execution_count": 3,
   "id": "9be0b6c3",
   "metadata": {},
   "outputs": [
    {
     "name": "stdout",
     "output_type": "stream",
     "text": [
      "the multidimensional array is: \n",
      " [[100 120 140 160 180]\n",
      " [200 220 240 260 280]\n",
      " [300 320 340 360 380]\n",
      " [400 420 440 460 480]]\n",
      "first two rows are: \n",
      " [[100 120 140 160 180]\n",
      " [200 220 240 260 280]]\n",
      "third row is: \n",
      " [300 320 340 360 380]\n",
      "elements in first and second row and column are: \n",
      " [[100 120]\n",
      " [200 220]]\n",
      "elements in second row and second to fourth column are: \n",
      " [220 240 260]\n"
     ]
    }
   ],
   "source": [
    "#program to show slicing in multidimensional array.\n",
    "import numpy as np\n",
    "mymultarray7=np.reshape(range(100,500,20),(4,5))\n",
    "print(\"the multidimensional array is: \\n\",mymultarray7[:,:])\n",
    "\n",
    "#slicing by specifying only row indexes.\n",
    "print(\"first two rows are: \\n\",mymultarray7[0:2,])\n",
    "print(\"third row is: \\n\",mymultarray7[2,])\n",
    "\n",
    "#slicing by specifying both the row and column indexes.\n",
    "print(\"elements in first and second row and column are: \\n\",mymultarray7[0:2,0:2])\n",
    "print(\"elements in second row and second to fourth column are: \\n\",mymultarray7[1,1:4])\n"
   ]
  },
  {
   "cell_type": "code",
   "execution_count": 16,
   "id": "c76eaa48",
   "metadata": {},
   "outputs": [
    {
     "name": "stdout",
     "output_type": "stream",
     "text": [
      "the original matrix is: \n",
      " [[10 60 40]\n",
      " [40 50 30]\n",
      " [50 60 40]\n",
      " [40 50 20]]\n",
      "tansposed matrix is:\n",
      "  [[10 40 50 40]\n",
      " [60 50 60 50]\n",
      " [40 30 40 20]]\n",
      "dimension of the array is:  2\n",
      "shape of the array is:  (4, 3)\n",
      "flattened matrix is: \n",
      " [10 60 40 40 50 30 50 60 40 40 50 20]\n",
      "sorted matrix on row basis(default):\n",
      "  [[10 40 60]\n",
      " [30 40 50]\n",
      " [40 50 60]\n",
      " [20 40 50]]\n",
      "sorted matrix on columnar basis: \n",
      " [[10 50 20]\n",
      " [40 50 30]\n",
      " [40 60 40]\n",
      " [50 60 40]]\n",
      "diagonal elements are:  [10 50 40]\n"
     ]
    }
   ],
   "source": [
    "#functions on multidimensional array\n",
    "#program for functions on multidimensional array.\n",
    "import numpy as np\n",
    "mymultarray8=np.array([[10,60,40],[40,50,30],[50,60,40],[40,50,20]])\n",
    "#displaying the matrix\n",
    "print(\"the original matrix is: \\n\",mymultarray8)\n",
    "#the transpose() function returns the transpose of a matrix.\n",
    "print(\"tansposed matrix is:\\n \",mymultarray8.transpose())\n",
    "#the ndim determines dimensions of the array.\n",
    "print(\"dimension of the array is: \",mymultarray8.ndim)\n",
    "#the shape determines shape of the array.\n",
    "print(\"shape of the array is: \",mymultarray8.shape)\n",
    "#the flatten() flattens the matrix and converts into one-dimensional.\n",
    "print(\"flattened matrix is: \\n\",mymultarray8.flatten())\n",
    "#the sort() function with axis=1 (default)sorts the matrix on row basis.\n",
    "print(\"sorted matrix on row basis(default):\\n \",np.sort(mymultarray8))\n",
    "#the sort() function with axis=0 sorts the matrix on column basis.\n",
    "print(\"sorted matrix on columnar basis: \\n\",np.sort(mymultarray8,axis=0))\n",
    "#the diagonal() function helps to determine the diagonal elements.\n",
    "print(\"diagonal elements are: \",np.diagonal(mymultarray8))"
   ]
  },
  {
   "cell_type": "code",
   "execution_count": 28,
   "id": "5125bfcf",
   "metadata": {},
   "outputs": [
    {
     "name": "stdout",
     "output_type": "stream",
     "text": [
      "addition of 2-d arrays: \n",
      " [[ 21  42  63  84]\n",
      " [105 126 147 168]]\n",
      "subtration of 2-d arrays: \n",
      " [[-1 -2 -3 -4]\n",
      " [-5 -6 -7 -8]]\n",
      "multiplication of 2-d arrays: \n",
      " [[ 110  440  990 1760]\n",
      " [2750 3960 5390 7040]]\n",
      "division of 2-d arrays: \n",
      " [[0.90909091 0.90909091 0.90909091 0.90909091]\n",
      " [0.90909091 0.90909091 0.90909091 0.90909091]]\n",
      "modulus operator for 2-d arrays: \n",
      " [[10 20 30 40]\n",
      " [50 60 70 80]]\n",
      "integer division on 2-d arrays: \n",
      " [[0 0 0 0]\n",
      " [0 0 0 0]]\n",
      "matrix multiplication:\n",
      " [[1430 1562]\n",
      " [3630 3850]]\n"
     ]
    }
   ],
   "source": [
    "#mathematical operators for multiple multidimensional array\n",
    "#program for using basic mathematical operators on multidimensional array.\n",
    "import numpy as np\n",
    "mymultarray9=np.array([[10,20,30,40],[50,60,70,80]])\n",
    "mymultarray10=np.array([11,22,33,44,55,66,77,88])\n",
    "mymultarray10=np.reshape(mymultarray10,(2,4))\n",
    "\n",
    "#mathematical operations between multidimensional arrays.\n",
    "print(\"addition of 2-d arrays: \\n\",mymultarray9+mymultarray10)\n",
    "print(\"subtration of 2-d arrays: \\n\",mymultarray9-mymultarray10)\n",
    "print(\"multiplication of 2-d arrays: \\n\",mymultarray9*mymultarray10)\n",
    "print(\"division of 2-d arrays: \\n\",mymultarray9/mymultarray10)\n",
    "print(\"modulus operator for 2-d arrays: \\n\",mymultarray9%mymultarray10)\n",
    "print(\"integer division on 2-d arrays: \\n\",mymultarray9//mymultarray10)\n",
    "\n",
    "#matrix multiplication.\n",
    "mymultarray11=np.matrix(\"10 12; 14 10; 12 10; 14 20\")\n",
    "print(\"matrix multiplication:\\n\",mymultarray10*mymultarray11)"
   ]
  },
  {
   "cell_type": "code",
   "execution_count": null,
   "id": "f261056f",
   "metadata": {},
   "outputs": [],
   "source": []
  }
 ],
 "metadata": {
  "kernelspec": {
   "display_name": "Python 3 (ipykernel)",
   "language": "python",
   "name": "python3"
  },
  "language_info": {
   "codemirror_mode": {
    "name": "ipython",
    "version": 3
   },
   "file_extension": ".py",
   "mimetype": "text/x-python",
   "name": "python",
   "nbconvert_exporter": "python",
   "pygments_lexer": "ipython3",
   "version": "3.9.7"
  }
 },
 "nbformat": 4,
 "nbformat_minor": 5
}
