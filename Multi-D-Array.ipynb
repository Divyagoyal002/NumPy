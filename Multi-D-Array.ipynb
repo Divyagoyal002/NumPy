{
 "cells": [
  {
   "cell_type": "code",
   "execution_count": 52,
   "id": "2e9debc3",
   "metadata": {},
   "outputs": [],
   "source": [
    "import numpy as np"
   ]
  },
  {
   "cell_type": "markdown",
   "id": "c4cfac56",
   "metadata": {},
   "source": [
    "## 2-D Array\n"
   ]
  },
  {
   "cell_type": "code",
   "execution_count": 53,
   "id": "e181e4de",
   "metadata": {},
   "outputs": [
    {
     "data": {
      "text/plain": [
       "array([[11, 22, 33],\n",
       "       [44, 55, 66],\n",
       "       [77, 88, 99]])"
      ]
     },
     "execution_count": 53,
     "metadata": {},
     "output_type": "execute_result"
    }
   ],
   "source": [
    "a1=np.array([[11,22,33],[44,55,66],[77,88,99]])\n",
    "a1"
   ]
  },
  {
   "cell_type": "code",
   "execution_count": 54,
   "id": "d75f550a",
   "metadata": {},
   "outputs": [
    {
     "data": {
      "text/plain": [
       "matrix([[42, 22, 83],\n",
       "        [11, 55, 36],\n",
       "        [97, 88, 79]])"
      ]
     },
     "execution_count": 54,
     "metadata": {},
     "output_type": "execute_result"
    }
   ],
   "source": [
    "a2=np.matrix([[42,22,83],[11,55,36],[97,88,79]])\n",
    "a2"
   ]
  },
  {
   "cell_type": "code",
   "execution_count": 55,
   "id": "4f8f050b",
   "metadata": {},
   "outputs": [
    {
     "data": {
      "text/plain": [
       "array([[311, 453, 520],\n",
       "       [362, 230, 281],\n",
       "       [672, 891, 421]])"
      ]
     },
     "execution_count": 55,
     "metadata": {},
     "output_type": "execute_result"
    }
   ],
   "source": [
    "a3=np.array([311,453,520,362,230,281,672,891,421])\n",
    "a4=np.reshape(a3,(3,3))\n",
    "a4"
   ]
  },
  {
   "cell_type": "code",
   "execution_count": 11,
   "id": "e98c9f62",
   "metadata": {},
   "outputs": [
    {
     "data": {
      "text/plain": [
       "array([[0., 0., 0.],\n",
       "       [0., 0., 0.],\n",
       "       [0., 0., 0.]])"
      ]
     },
     "execution_count": 11,
     "metadata": {},
     "output_type": "execute_result"
    }
   ],
   "source": [
    "a5=np.zeros((3,3))\n",
    "a5"
   ]
  },
  {
   "cell_type": "code",
   "execution_count": 12,
   "id": "064c57e2",
   "metadata": {},
   "outputs": [
    {
     "data": {
      "text/plain": [
       "array([[1., 1., 1.],\n",
       "       [1., 1., 1.],\n",
       "       [1., 1., 1.]])"
      ]
     },
     "execution_count": 12,
     "metadata": {},
     "output_type": "execute_result"
    }
   ],
   "source": [
    "a6=np.ones((3,3))\n",
    "a6"
   ]
  },
  {
   "cell_type": "code",
   "execution_count": 22,
   "id": "82e53109",
   "metadata": {},
   "outputs": [
    {
     "name": "stdout",
     "output_type": "stream",
     "text": [
      "155\n"
     ]
    },
    {
     "data": {
      "text/plain": [
       "array([[100, 105, 110, 115, 120],\n",
       "       [125, 130, 135, 140, 145],\n",
       "       [150, 155, 160, 165, 170],\n",
       "       [175, 180, 185, 190, 195]])"
      ]
     },
     "execution_count": 22,
     "metadata": {},
     "output_type": "execute_result"
    }
   ],
   "source": [
    "a7=np.reshape(range(100,200,5),(4,5))\n",
    "print(a7[2][1])\n",
    "a7"
   ]
  },
  {
   "cell_type": "code",
   "execution_count": 58,
   "id": "9bc182a9",
   "metadata": {},
   "outputs": [
    {
     "data": {
      "text/plain": [
       "array([[100, 105, 110, 115],\n",
       "       [125, 130, 135, 140]])"
      ]
     },
     "execution_count": 58,
     "metadata": {},
     "output_type": "execute_result"
    }
   ],
   "source": [
    "a7[0:2,0:4]"
   ]
  },
  {
   "cell_type": "code",
   "execution_count": 29,
   "id": "9a5f4207",
   "metadata": {},
   "outputs": [
    {
     "name": "stdout",
     "output_type": "stream",
     "text": [
      "[[100 125 150 175]\n",
      " [105 130 155 180]\n",
      " [110 135 160 185]\n",
      " [115 140 165 190]\n",
      " [120 145 170 195]]\n"
     ]
    }
   ],
   "source": [
    "print(a7.transpose())"
   ]
  },
  {
   "cell_type": "code",
   "execution_count": 30,
   "id": "b83af1fa",
   "metadata": {},
   "outputs": [
    {
     "name": "stdout",
     "output_type": "stream",
     "text": [
      "2\n"
     ]
    }
   ],
   "source": [
    "print(a7.ndim) #dimension"
   ]
  },
  {
   "cell_type": "code",
   "execution_count": 31,
   "id": "fb5abdb8",
   "metadata": {},
   "outputs": [
    {
     "name": "stdout",
     "output_type": "stream",
     "text": [
      "[100 105 110 115 120 125 130 135 140 145 150 155 160 165 170 175 180 185\n",
      " 190 195]\n"
     ]
    }
   ],
   "source": [
    "print(a7.flatten())"
   ]
  },
  {
   "cell_type": "code",
   "execution_count": 59,
   "id": "71fbea21",
   "metadata": {},
   "outputs": [
    {
     "data": {
      "text/plain": [
       "array([[100, 105, 110, 115, 120],\n",
       "       [125, 130, 135, 140, 145],\n",
       "       [150, 155, 160, 165, 170],\n",
       "       [175, 180, 185, 190, 195]])"
      ]
     },
     "execution_count": 59,
     "metadata": {},
     "output_type": "execute_result"
    }
   ],
   "source": [
    "np.sort(a7,axis=0) #column"
   ]
  },
  {
   "cell_type": "code",
   "execution_count": 38,
   "id": "3b9f9f5c",
   "metadata": {},
   "outputs": [
    {
     "data": {
      "text/plain": [
       "array([[100, 105, 110, 115, 120],\n",
       "       [125, 130, 135, 140, 145],\n",
       "       [150, 155, 160, 165, 170],\n",
       "       [175, 180, 185, 190, 195]])"
      ]
     },
     "execution_count": 38,
     "metadata": {},
     "output_type": "execute_result"
    }
   ],
   "source": [
    "np.sort(a7,axis=1) #row"
   ]
  },
  {
   "cell_type": "code",
   "execution_count": 39,
   "id": "9644c237",
   "metadata": {},
   "outputs": [
    {
     "data": {
      "text/plain": [
       "array([100, 130, 160, 190])"
      ]
     },
     "execution_count": 39,
     "metadata": {},
     "output_type": "execute_result"
    }
   ],
   "source": [
    "np.diagonal(a7)"
   ]
  },
  {
   "cell_type": "code",
   "execution_count": 44,
   "id": "d4fffb21",
   "metadata": {},
   "outputs": [],
   "source": [
    "a8=np.array([[115,123,120],[130,117,281],[321,564,789]])\n",
    "a9=np.array([[111,123,121],[131,117,282],[321,464,989]])"
   ]
  },
  {
   "cell_type": "code",
   "execution_count": 47,
   "id": "b217a09e",
   "metadata": {},
   "outputs": [
    {
     "name": "stdout",
     "output_type": "stream",
     "text": [
      "[[ True  True False]\n",
      " [False  True False]\n",
      " [ True  True False]]\n"
     ]
    }
   ],
   "source": [
    "print(a8>=a9)"
   ]
  },
  {
   "cell_type": "code",
   "execution_count": 48,
   "id": "16ce1a63",
   "metadata": {},
   "outputs": [
    {
     "name": "stdout",
     "output_type": "stream",
     "text": [
      "[[False  True  True]\n",
      " [ True  True  True]\n",
      " [ True False  True]]\n"
     ]
    }
   ],
   "source": [
    "print(a8<=a9)"
   ]
  },
  {
   "cell_type": "code",
   "execution_count": 49,
   "id": "39601517",
   "metadata": {},
   "outputs": [
    {
     "name": "stdout",
     "output_type": "stream",
     "text": [
      "[[False  True False]\n",
      " [False  True False]\n",
      " [ True False False]]\n"
     ]
    }
   ],
   "source": [
    "print(a8==a9)"
   ]
  },
  {
   "cell_type": "code",
   "execution_count": 50,
   "id": "e1f7ed6e",
   "metadata": {},
   "outputs": [
    {
     "name": "stdout",
     "output_type": "stream",
     "text": [
      "[[ True False  True]\n",
      " [ True False  True]\n",
      " [False  True  True]]\n"
     ]
    }
   ],
   "source": [
    "print(a8!=a9)"
   ]
  },
  {
   "cell_type": "code",
   "execution_count": 60,
   "id": "ad3b3dc3",
   "metadata": {},
   "outputs": [
    {
     "data": {
      "text/plain": [
       "array([[ 226,  246,  241],\n",
       "       [ 261,  234,  563],\n",
       "       [ 642, 1028, 1778]])"
      ]
     },
     "execution_count": 60,
     "metadata": {},
     "output_type": "execute_result"
    }
   ],
   "source": [
    "a8+a9"
   ]
  },
  {
   "cell_type": "code",
   "execution_count": null,
   "id": "dabb4eee",
   "metadata": {},
   "outputs": [],
   "source": []
  }
 ],
 "metadata": {
  "kernelspec": {
   "display_name": "Python 3 (ipykernel)",
   "language": "python",
   "name": "python3"
  },
  "language_info": {
   "codemirror_mode": {
    "name": "ipython",
    "version": 3
   },
   "file_extension": ".py",
   "mimetype": "text/x-python",
   "name": "python",
   "nbconvert_exporter": "python",
   "pygments_lexer": "ipython3",
   "version": "3.9.7"
  }
 },
 "nbformat": 4,
 "nbformat_minor": 5
}
