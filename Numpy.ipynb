{
 "cells": [
  {
   "cell_type": "code",
   "execution_count": 2,
   "id": "4d1d0a19",
   "metadata": {},
   "outputs": [],
   "source": [
    "\n",
    "import numpy as np\n",
    "#MST-2 Syllabus dictionaries,: Class,object,constructor,destructor and inheritance;File Input and Output,Numpy: Creating Arrays,\n",
    "# Arrays Operations,Multidimensional Arrays. Arrays transformation,Array Concatenation, Array Math Operations, \n",
    "# Multidimensional Array and its Operations,"
   ]
  },
  {
   "cell_type": "code",
   "execution_count": 38,
   "id": "31a2c83d",
   "metadata": {},
   "outputs": [
    {
     "data": {
      "text/plain": [
       "array([11, 22, 33, 44, 55, 66, 77, 88])"
      ]
     },
     "execution_count": 38,
     "metadata": {},
     "output_type": "execute_result"
    }
   ],
   "source": [
    "ar=np.array([11,22,33,44,55,66,77,88])\n",
    "ar"
   ]
  },
  {
   "cell_type": "code",
   "execution_count": 39,
   "id": "2c6c2833",
   "metadata": {},
   "outputs": [
    {
     "data": {
      "text/plain": [
       "array(['a', 'b', 'c', 'd', 'e'], dtype='<U1')"
      ]
     },
     "execution_count": 39,
     "metadata": {},
     "output_type": "execute_result"
    }
   ],
   "source": [
    "arr=np.array(['a','b','c','d','e'])\n",
    "arr"
   ]
  },
  {
   "cell_type": "code",
   "execution_count": 40,
   "id": "9f3ed304",
   "metadata": {},
   "outputs": [
    {
     "data": {
      "text/plain": [
       "array(['java', 'python', 'sql', 'c', 'excel', 'tableau'], dtype='<U7')"
      ]
     },
     "execution_count": 40,
     "metadata": {},
     "output_type": "execute_result"
    }
   ],
   "source": [
    "arrr=np.array(['java','python','sql','c','excel','tableau'])\n",
    "arrr"
   ]
  },
  {
   "cell_type": "code",
   "execution_count": 41,
   "id": "ccaf8275",
   "metadata": {},
   "outputs": [
    {
     "data": {
      "text/plain": [
       "array([[11, 22, 33],\n",
       "       [44, 55, 66],\n",
       "       [77, 88, 99]])"
      ]
     },
     "execution_count": 41,
     "metadata": {},
     "output_type": "execute_result"
    }
   ],
   "source": [
    "ar2=np.array([[11,22,33],[44,55,66],[77,88,99]])\n",
    "ar2"
   ]
  },
  {
   "cell_type": "markdown",
   "id": "cb5f919c",
   "metadata": {},
   "source": [
    "using view() function to create a new array from an existing array\n",
    "The main difference between a copy and a view of an array is that the copy is a new array, and the view is just a view of the original array. The copy owns the data and any changes made to the copy will not affect original array, and any changes made to the original array will not affect the copy."
   ]
  },
  {
   "cell_type": "code",
   "execution_count": 42,
   "id": "2d72b233",
   "metadata": {},
   "outputs": [
    {
     "name": "stdout",
     "output_type": "stream",
     "text": [
      "[11 22 33 44 55 66 77 88]\n"
     ]
    }
   ],
   "source": [
    "arr4=ar.view()\n",
    "print(arr4)"
   ]
  },
  {
   "cell_type": "code",
   "execution_count": 77,
   "id": "e19d408c",
   "metadata": {},
   "outputs": [
    {
     "name": "stdout",
     "output_type": "stream",
     "text": [
      "[11 22 33 44 55 66 77 88]\n"
     ]
    }
   ],
   "source": [
    "arrc=ar.copy()\n",
    "print(arrc)"
   ]
  },
  {
   "cell_type": "code",
   "execution_count": 44,
   "id": "2c60325f",
   "metadata": {},
   "outputs": [
    {
     "name": "stdout",
     "output_type": "stream",
     "text": [
      "[0 1 2 3 4 5 6 7 8 9]\n"
     ]
    }
   ],
   "source": [
    "arr5=np.arange(10)\n",
    "print(arr5)"
   ]
  },
  {
   "cell_type": "code",
   "execution_count": 45,
   "id": "cde5b248",
   "metadata": {},
   "outputs": [
    {
     "name": "stdout",
     "output_type": "stream",
     "text": [
      "[0. 1. 2. 3. 4. 5. 6. 7. 8. 9.]\n"
     ]
    },
    {
     "name": "stderr",
     "output_type": "stream",
     "text": [
      "C:\\Users\\DELL\\AppData\\Local\\Temp/ipykernel_10316/1337032726.py:1: DeprecationWarning: `np.float` is a deprecated alias for the builtin `float`. To silence this warning, use `float` by itself. Doing this will not modify any behavior and is safe. If you specifically wanted the numpy scalar type, use `np.float64` here.\n",
      "Deprecated in NumPy 1.20; for more details and guidance: https://numpy.org/devdocs/release/1.20.0-notes.html#deprecations\n",
      "  arr6=np.arange(10,dtype=np.float)\n"
     ]
    }
   ],
   "source": [
    "arr6=np.arange(10,dtype=np.float)\n",
    "print(arr6)"
   ]
  },
  {
   "cell_type": "code",
   "execution_count": 46,
   "id": "3f1a7d44",
   "metadata": {},
   "outputs": [
    {
     "name": "stdout",
     "output_type": "stream",
     "text": [
      "[10.         26.66666667 43.33333333 60.        ]\n"
     ]
    }
   ],
   "source": [
    "#linespace(start,end,number of values between the given range)\n",
    "arr7=np.linspace(10,60,4)\n",
    "print(arr7)"
   ]
  },
  {
   "cell_type": "code",
   "execution_count": 47,
   "id": "071ab501",
   "metadata": {},
   "outputs": [
    {
     "name": "stdout",
     "output_type": "stream",
     "text": [
      "[10.5 25.9 41.3 56.7]\n"
     ]
    }
   ],
   "source": [
    "arr8=np.linspace(10.5,56.7,4)\n",
    "print(arr8)"
   ]
  },
  {
   "cell_type": "code",
   "execution_count": 78,
   "id": "20caec36",
   "metadata": {},
   "outputs": [
    {
     "data": {
      "text/plain": [
       "array([0., 0., 0., 0.])"
      ]
     },
     "execution_count": 78,
     "metadata": {},
     "output_type": "execute_result"
    }
   ],
   "source": [
    "arr9=np.zeros(4)\n",
    "arr9"
   ]
  },
  {
   "cell_type": "code",
   "execution_count": 79,
   "id": "918eb9d6",
   "metadata": {},
   "outputs": [
    {
     "data": {
      "text/plain": [
       "array([1., 1., 1., 1., 1.])"
      ]
     },
     "execution_count": 79,
     "metadata": {},
     "output_type": "execute_result"
    }
   ],
   "source": [
    "arr10=np.ones(5)\n",
    "arr10"
   ]
  },
  {
   "cell_type": "code",
   "execution_count": 50,
   "id": "b56c4c4d",
   "metadata": {},
   "outputs": [
    {
     "name": "stdout",
     "output_type": "stream",
     "text": [
      "(3, 3)\n"
     ]
    }
   ],
   "source": [
    "print(ar2.shape)"
   ]
  },
  {
   "cell_type": "code",
   "execution_count": 51,
   "id": "0e596733",
   "metadata": {},
   "outputs": [
    {
     "name": "stdout",
     "output_type": "stream",
     "text": [
      "9\n"
     ]
    }
   ],
   "source": [
    "print(ar2.size)"
   ]
  },
  {
   "cell_type": "code",
   "execution_count": 52,
   "id": "3ffdb3d2",
   "metadata": {},
   "outputs": [
    {
     "name": "stdout",
     "output_type": "stream",
     "text": [
      "55.0\n"
     ]
    }
   ],
   "source": [
    "print(np.mean(ar2))"
   ]
  },
  {
   "cell_type": "code",
   "execution_count": 53,
   "id": "62388829",
   "metadata": {},
   "outputs": [
    {
     "name": "stdout",
     "output_type": "stream",
     "text": [
      "55.0\n"
     ]
    }
   ],
   "source": [
    "print(np.median(ar2))"
   ]
  },
  {
   "cell_type": "code",
   "execution_count": 54,
   "id": "de2a38b2",
   "metadata": {},
   "outputs": [
    {
     "name": "stdout",
     "output_type": "stream",
     "text": [
      "495\n"
     ]
    }
   ],
   "source": [
    "print(np.sum(ar2))"
   ]
  },
  {
   "cell_type": "code",
   "execution_count": 55,
   "id": "42bccb0b",
   "metadata": {},
   "outputs": [
    {
     "name": "stdout",
     "output_type": "stream",
     "text": [
      "83466368\n"
     ]
    }
   ],
   "source": [
    "print(np.prod(ar2))"
   ]
  },
  {
   "cell_type": "code",
   "execution_count": 56,
   "id": "3440fb67",
   "metadata": {},
   "outputs": [
    {
     "name": "stdout",
     "output_type": "stream",
     "text": [
      "[[121. 121. 121.]\n",
      " [121. 121. 121.]\n",
      " [121. 121. 121.]]\n"
     ]
    }
   ],
   "source": [
    "print(np.cov(ar2))"
   ]
  },
  {
   "cell_type": "code",
   "execution_count": 57,
   "id": "9a804ae3",
   "metadata": {},
   "outputs": [
    {
     "name": "stdout",
     "output_type": "stream",
     "text": [
      "99\n"
     ]
    }
   ],
   "source": [
    "print(np.max(ar2))"
   ]
  },
  {
   "cell_type": "code",
   "execution_count": 58,
   "id": "1d2757c4",
   "metadata": {},
   "outputs": [
    {
     "name": "stdout",
     "output_type": "stream",
     "text": [
      "11\n"
     ]
    }
   ],
   "source": [
    "print(np.min(ar2))"
   ]
  },
  {
   "cell_type": "code",
   "execution_count": 59,
   "id": "0bd2abc6",
   "metadata": {},
   "outputs": [
    {
     "name": "stdout",
     "output_type": "stream",
     "text": [
      "806.6666666666666\n"
     ]
    }
   ],
   "source": [
    "print(np.var(ar2))"
   ]
  },
  {
   "cell_type": "code",
   "execution_count": 60,
   "id": "1e463ca0",
   "metadata": {},
   "outputs": [
    {
     "name": "stdout",
     "output_type": "stream",
     "text": [
      "28.401877872187722\n"
     ]
    }
   ],
   "source": [
    "print(np.std(ar2))"
   ]
  },
  {
   "cell_type": "code",
   "execution_count": 61,
   "id": "e1b4ff2e",
   "metadata": {},
   "outputs": [
    {
     "name": "stdout",
     "output_type": "stream",
     "text": [
      "[[ 121  484 1089]\n",
      " [1936 3025 4356]\n",
      " [5929 7744 9801]]\n"
     ]
    }
   ],
   "source": [
    "print(np.power(ar2,2))"
   ]
  },
  {
   "cell_type": "code",
   "execution_count": 62,
   "id": "00169392",
   "metadata": {},
   "outputs": [
    {
     "name": "stdout",
     "output_type": "stream",
     "text": [
      "[[3.31662479 4.69041576 5.74456265]\n",
      " [6.63324958 7.41619849 8.1240384 ]\n",
      " [8.77496439 9.38083152 9.94987437]]\n"
     ]
    }
   ],
   "source": [
    "print(np.sqrt(ar2))"
   ]
  },
  {
   "cell_type": "code",
   "execution_count": 63,
   "id": "cb4cb1e2",
   "metadata": {},
   "outputs": [
    {
     "name": "stdout",
     "output_type": "stream",
     "text": [
      "[[11 22 33]\n",
      " [44 55 66]\n",
      " [77 88 99]]\n"
     ]
    }
   ],
   "source": [
    "print(np.abs(ar2))"
   ]
  },
  {
   "cell_type": "code",
   "execution_count": 64,
   "id": "6c9c9049",
   "metadata": {},
   "outputs": [
    {
     "name": "stdout",
     "output_type": "stream",
     "text": [
      "[[-0.99999021 -0.00885131  0.99991186]\n",
      " [ 0.01770193 -0.99975517 -0.02655115]\n",
      " [ 0.99952016  0.0353983  -0.99920683]]\n"
     ]
    }
   ],
   "source": [
    "print(np.sin(ar2))"
   ]
  },
  {
   "cell_type": "code",
   "execution_count": 65,
   "id": "f41f98c3",
   "metadata": {},
   "outputs": [
    {
     "name": "stdout",
     "output_type": "stream",
     "text": [
      "[[ 0.0044257  -0.99996083 -0.01327675]\n",
      " [ 0.99984331  0.02212676 -0.99964746]\n",
      " [-0.03097503  0.99937328  0.03982088]]\n"
     ]
    }
   ],
   "source": [
    "print(np.cos(ar2))"
   ]
  },
  {
   "cell_type": "code",
   "execution_count": 66,
   "id": "89a49a9b",
   "metadata": {},
   "outputs": [
    {
     "name": "stdout",
     "output_type": "stream",
     "text": [
      "[[-2.25950846e+02  8.85165604e-03 -7.53130148e+01]\n",
      " [ 1.77046993e-02 -4.51830879e+01  2.65605178e-02]\n",
      " [-3.22685758e+01  3.54205013e-02 -2.50925350e+01]]\n"
     ]
    }
   ],
   "source": [
    "print(np.tan(ar2))"
   ]
  },
  {
   "cell_type": "code",
   "execution_count": 67,
   "id": "f0a8ea5b",
   "metadata": {},
   "outputs": [
    {
     "name": "stdout",
     "output_type": "stream",
     "text": [
      "[[2.39789527 3.09104245 3.49650756]\n",
      " [3.78418963 4.00733319 4.18965474]\n",
      " [4.34380542 4.47733681 4.59511985]]\n"
     ]
    }
   ],
   "source": [
    "print(np.log(ar2))"
   ]
  },
  {
   "cell_type": "code",
   "execution_count": 68,
   "id": "3385166d",
   "metadata": {},
   "outputs": [
    {
     "name": "stdout",
     "output_type": "stream",
     "text": [
      "[[1.04139269 1.34242268 1.51851394]\n",
      " [1.64345268 1.74036269 1.81954394]\n",
      " [1.88649073 1.94448267 1.99563519]]\n"
     ]
    }
   ],
   "source": [
    "print(np.log10(ar2))"
   ]
  },
  {
   "cell_type": "code",
   "execution_count": 69,
   "id": "ddd4bcdf",
   "metadata": {},
   "outputs": [
    {
     "name": "stdout",
     "output_type": "stream",
     "text": [
      "[[5.98741417e+04 3.58491285e+09 2.14643580e+14]\n",
      " [1.28516001e+19 7.69478527e+23 4.60718663e+28]\n",
      " [2.75851345e+33 1.65163625e+38 9.88903032e+42]]\n"
     ]
    }
   ],
   "source": [
    "print(np.exp(ar2))"
   ]
  },
  {
   "cell_type": "code",
   "execution_count": 89,
   "id": "10da30c3",
   "metadata": {},
   "outputs": [
    {
     "data": {
      "text/plain": [
       "array([[25, 26, 27, 28, 29, 30, 31, 32, 33]])"
      ]
     },
     "execution_count": 89,
     "metadata": {},
     "output_type": "execute_result"
    }
   ],
   "source": [
    "a=np.array([range(25,34)])\n",
    "a"
   ]
  },
  {
   "cell_type": "code",
   "execution_count": 93,
   "id": "6c4a3449",
   "metadata": {},
   "outputs": [
    {
     "data": {
      "text/plain": [
       "array([25, 26, 27, 28, 29, 30, 31, 32, 33])"
      ]
     },
     "execution_count": 93,
     "metadata": {},
     "output_type": "execute_result"
    }
   ],
   "source": [
    "a22=np.arange(25,34)\n",
    "a22"
   ]
  },
  {
   "cell_type": "markdown",
   "id": "e3e0ac42",
   "metadata": {},
   "source": [
    "**Relational operator**\n",
    "\n",
    "\n"
   ]
  },
  {
   "cell_type": "code",
   "execution_count": 3,
   "id": "7e49a8eb",
   "metadata": {},
   "outputs": [
    {
     "name": "stdout",
     "output_type": "stream",
     "text": [
      "Comparing corresponding elements of two arrays\n",
      " [False False  True  True  True  True False False]\n",
      "Comparing corresponding elements of two arrays\n",
      " [ True  True  True False False  True  True  True]\n",
      "Comparing corresponding elements of two arrays\n",
      " [False False  True False False  True False False]\n",
      "Comparing corresponding elements of two arrays\n",
      " [ True  True False  True  True False  True  True]\n"
     ]
    }
   ],
   "source": [
    "a1=np.array([215,323,520,636,717,281,162,411])\n",
    "a2=np.array([311,453,520,362,230,281,672,891])\n",
    "\n",
    "\n",
    "print(\"Comparing corresponding elements of two arrays\\n\",a1>=a2)\n",
    "\n",
    "print(\"Comparing corresponding elements of two arrays\\n\",a1<=a2)\n",
    "\n",
    "print(\"Comparing corresponding elements of two arrays\\n\",a1==a2)\n",
    "\n",
    "print(\"Comparing corresponding elements of two arrays\\n\",a1!=a2)\n"
   ]
  },
  {
   "cell_type": "code",
   "execution_count": null,
   "id": "bf2c442a",
   "metadata": {},
   "outputs": [],
   "source": []
  }
 ],
 "metadata": {
  "kernelspec": {
   "display_name": "Python 3 (ipykernel)",
   "language": "python",
   "name": "python3"
  },
  "language_info": {
   "codemirror_mode": {
    "name": "ipython",
    "version": 3
   },
   "file_extension": ".py",
   "mimetype": "text/x-python",
   "name": "python",
   "nbconvert_exporter": "python",
   "pygments_lexer": "ipython3",
   "version": "3.9.7"
  }
 },
 "nbformat": 4,
 "nbformat_minor": 5
}
