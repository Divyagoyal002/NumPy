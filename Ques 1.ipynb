{
 "cells": [
  {
   "cell_type": "markdown",
   "id": "333ee3a9",
   "metadata": {},
   "source": [
    "**Care hospital wants to know the medical speciality visited by the maximum number of patients. Assume that the patient id\n",
    "of the patient along with the medical speciality visited by the patient is stored in a list. The details of the medical\n",
    "specialities are stored in a dictionary as follows:**\n",
    "**\"p\":\"Pediatrics\",<br>\n",
    "\"O\":\"Orthopedics\",<br>\n",
    "\"E\":\"ENT**<br>\n",
    "\n",
    "**Write a function to find the medical speciality visited by the maximum number of patients and return the name of the\n",
    "speciality.**<br>\n",
    "**Note:**<br>\n",
    ">**Assume that there is always only one medical speciality which is visited by maximum number of patients.**<br>\n",
    ">**Perform case sensitive string comparison wherever necessary.**<br>\n",
    "\n",
    "**Sample Input          --                                                             Expected Output**\n",
    "\n",
    "**[101,P.102,0,302,P,305,P]    --                                                        Pediatrics**\n",
    "\n",
    "**[101,0,102,0,302.P.305,E,401,0,656,0]  --                                             Orthopedics**\n",
    "\n",
    "**[101,0,102,E,302,P,305,P,401.E,656,0,987.E]   --                                           ENT**"
   ]
  },
  {
   "cell_type": "code",
   "execution_count": 7,
   "id": "c5d42c92",
   "metadata": {},
   "outputs": [
    {
     "name": "stdout",
     "output_type": "stream",
     "text": [
      "Enter the number of patient7\n",
      "Enter patient id : 1\n",
      "Enter the disease e\n",
      "Enter patient id : 11\n",
      "Enter the disease o\n",
      "Enter patient id : 121\n",
      "Enter the disease p\n",
      "Enter patient id : 23\n",
      "Enter the disease o\n",
      "Enter patient id : 34\n",
      "Enter the disease o\n",
      "Enter patient id : 54\n",
      "Enter the disease p\n",
      "Enter patient id : 65\n",
      "Enter the disease e\n",
      "Counter({'o': 3, 'e': 2, 'p': 2})\n",
      "o\n",
      "[('o', 3)]\n",
      "orthpedics\n"
     ]
    }
   ],
   "source": [
    "import collections\n",
    "from collections import Counter\n",
    "Dr={\n",
    "    'p': 'pediatrics', \n",
    "    'o':'orthpedics',\n",
    "    'e':'ent'\n",
    "}\n",
    "\n",
    "psize=int(input(\"Enter the number of patient\"))\n",
    "\n",
    "patient_id=[]\n",
    "\n",
    "patient_disease=[]\n",
    "\n",
    "for i in range(1,psize+1): \n",
    "    patient_id.append(int(input(\"Enter patient id : \")))\n",
    "    patient_disease.append(input(\"Enter the disease \"))\n",
    "    \n",
    "Count=Counter(patient_disease)\n",
    "\n",
    "print(Count)\n",
    "\n",
    "Com=Count.most_common(1)\n",
    "\n",
    "print(Com[0][0])\n",
    "print(Com)\n",
    "print(Dr.get(Com[0][0]))"
   ]
  },
  {
   "cell_type": "markdown",
   "id": "ef9287a3",
   "metadata": {},
   "source": [
    "# "
   ]
  }
 ],
 "metadata": {
  "kernelspec": {
   "display_name": "Python 3 (ipykernel)",
   "language": "python",
   "name": "python3"
  },
  "language_info": {
   "codemirror_mode": {
    "name": "ipython",
    "version": 3
   },
   "file_extension": ".py",
   "mimetype": "text/x-python",
   "name": "python",
   "nbconvert_exporter": "python",
   "pygments_lexer": "ipython3",
   "version": "3.9.7"
  }
 },
 "nbformat": 4,
 "nbformat_minor": 5
}
